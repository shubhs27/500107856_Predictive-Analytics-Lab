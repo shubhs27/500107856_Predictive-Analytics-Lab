{
  "nbformat": 4,
  "nbformat_minor": 0,
  "metadata": {
    "colab": {
      "provenance": [],
      "include_colab_link": true
    },
    "kernelspec": {
      "name": "python3",
      "display_name": "Python 3"
    },
    "language_info": {
      "name": "python"
    }
  },
  "cells": [
    {
      "cell_type": "markdown",
      "metadata": {
        "id": "view-in-github",
        "colab_type": "text"
      },
      "source": [
        "<a href=\"https://colab.research.google.com/github/shubhs27/500107856_Predictive-Analytics-Lab/blob/main/Lab2.ipynb\" target=\"_parent\"><img src=\"https://colab.research.google.com/assets/colab-badge.svg\" alt=\"Open In Colab\"/></a>"
      ]
    },
    {
      "cell_type": "code",
      "execution_count": null,
      "metadata": {
        "colab": {
          "base_uri": "https://localhost:8080/"
        },
        "id": "Tb5teFlHGOyA",
        "outputId": "644ac192-03c4-4864-f02a-3fd52258b586"
      },
      "outputs": [
        {
          "output_type": "stream",
          "name": "stdout",
          "text": [
            "First color: red\n",
            "Last color: blue\n",
            "Error: 'tuple' object does not support item assignment\n",
            "Occurrences of 'blue': 2\n"
          ]
        }
      ],
      "source": [
        "# Create a tuple of colors\n",
        "colors = (\"red\", \"blue\", \"green\", \"yellow\", \"blue\")\n",
        "\n",
        "# Access elements using indexing\n",
        "print(\"First color:\", colors[0])\n",
        "print(\"Last color:\", colors[-1])\n",
        "\n",
        "# Try to modify an element in the tuple\n",
        "try:\n",
        "    colors[0] = \"purple\"  # This will raise an error\n",
        "except TypeError as e:\n",
        "    print(\"Error:\", e)\n",
        "\n",
        "# Find the number of occurrences of a specific element\n",
        "print(\"Occurrences of 'blue':\", colors.count(\"blue\"))"
      ]
    },
    {
      "cell_type": "code",
      "source": [
        "# Create a dictionary\n",
        "person = {\"name\": \"John\", \"age\": 30, \"city\": \"New York\"}\n",
        "\n",
        "# Access values using keys\n",
        "print(\"Name:\", person[\"name\"])\n",
        "\n",
        "# Add a new key-value pair\n",
        "person[\"profession\"] = \"Engineer\"\n",
        "print(\"Updated Dictionary:\", person)\n",
        "\n",
        "# Modify an existing value\n",
        "person[\"age\"] = 35\n",
        "print(\"Modified Age:\", person)\n",
        "\n",
        "# Check if a key exists\n",
        "key = \"city\"\n",
        "if key in person:\n",
        "    print(f\"Key '{key}' exists.\")\n",
        "else:\n",
        "    print(f\"Key '{key}' does not exist.\")\n",
        "\n",
        "# Get a list of all keys and values\n",
        "print(\"Keys:\", list(person.keys()))\n",
        "print(\"Values:\", list(person.values()))"
      ],
      "metadata": {
        "colab": {
          "base_uri": "https://localhost:8080/"
        },
        "id": "o3v5UmA7GP9I",
        "outputId": "11ca95db-0e1c-4cec-e825-25917ebb9c6c"
      },
      "execution_count": null,
      "outputs": [
        {
          "output_type": "stream",
          "name": "stdout",
          "text": [
            "Name: John\n",
            "Updated Dictionary: {'name': 'John', 'age': 30, 'city': 'New York', 'profession': 'Engineer'}\n",
            "Modified Age: {'name': 'John', 'age': 35, 'city': 'New York', 'profession': 'Engineer'}\n",
            "Key 'city' exists.\n",
            "Keys: ['name', 'age', 'city', 'profession']\n",
            "Values: ['John', 35, 'New York', 'Engineer']\n"
          ]
        }
      ]
    },
    {
      "cell_type": "code",
      "source": [
        "\n",
        "# Create a list (mutable) and a tuple (immutable)\n",
        "my_list = [1, 2, 3]\n",
        "my_tuple = (1, 2, 3)\n",
        "\n",
        "# Modify an element in the list\n",
        "my_list[0] = 10\n",
        "print(\"Modified List:\", my_list)\n",
        "\n",
        "# Try to modify an element in the tuple\n",
        "try:\n",
        "    my_tuple[0] = 10  # This will raise an error\n",
        "except TypeError as e:\n",
        "    print(\"Error:\", e)\n",
        "\n",
        "# Explanation: Lists can be modified (mutable), whereas tuples cannot (immutable)."
      ],
      "metadata": {
        "colab": {
          "base_uri": "https://localhost:8080/"
        },
        "id": "Dg-Lz7gYGSLK",
        "outputId": "19bfbc89-b996-4ea5-d71b-f7f3c6a3a671"
      },
      "execution_count": null,
      "outputs": [
        {
          "output_type": "stream",
          "name": "stdout",
          "text": [
            "Modified List: [10, 2, 3]\n",
            "Error: 'tuple' object does not support item assignment\n"
          ]
        }
      ]
    },
    {
      "cell_type": "markdown",
      "source": [],
      "metadata": {
        "id": "ll9MDYXxGbje"
      }
    },
    {
      "cell_type": "code",
      "source": [
        "# Take a number as input\n",
        "num = int(input(\"Enter a number: \"))\n",
        "\n",
        "# Print the multiplication table\n",
        "print(f\"Multiplication Table for {num}:\")\n",
        "for i in range(1, 11):\n",
        "    print(f\"{num} x {i} = {num * i}\")"
      ],
      "metadata": {
        "colab": {
          "base_uri": "https://localhost:8080/"
        },
        "id": "plAPyQ2DGUZC",
        "outputId": "190dadf0-8beb-4910-fa2c-e0aaf727d226"
      },
      "execution_count": null,
      "outputs": [
        {
          "output_type": "stream",
          "name": "stdout",
          "text": [
            "Enter a number: 5\n",
            "Multiplication Table for 5:\n",
            "5 x 1 = 5\n",
            "5 x 2 = 10\n",
            "5 x 3 = 15\n",
            "5 x 4 = 20\n",
            "5 x 5 = 25\n",
            "5 x 6 = 30\n",
            "5 x 7 = 35\n",
            "5 x 8 = 40\n",
            "5 x 9 = 45\n",
            "5 x 10 = 50\n"
          ]
        }
      ]
    },
    {
      "cell_type": "code",
      "source": [
        "\n",
        "\n",
        "# Take a number as input\n",
        "num = int(input(\"Enter a number: \"))\n",
        "\n",
        "# Calculate the factorial\n",
        "factorial = 1\n",
        "if num < 0:\n",
        "    print(\"Factorial not defined for negative numbers.\")\n",
        "elif num == 0:\n",
        "    print(\"Factorial of 0 is 1.\")\n",
        "else:\n",
        "    for i in range(1, num + 1):\n",
        "        factorial *= i\n",
        "    print(f\"Factorial of {num} is {factorial}\")"
      ],
      "metadata": {
        "colab": {
          "base_uri": "https://localhost:8080/"
        },
        "id": "F9AXI5mPGZha",
        "outputId": "d645a82d-557a-4324-a597-12cc0c5d739a"
      },
      "execution_count": null,
      "outputs": [
        {
          "output_type": "stream",
          "name": "stdout",
          "text": [
            "Enter a number: 5\n",
            "Factorial of 5 is 120\n"
          ]
        }
      ]
    },
    {
      "cell_type": "code",
      "source": [
        "while True:\n",
        "    print(\"\\nSimple Calculator\")\n",
        "    print(\"1. Add\")\n",
        "    print(\"2. Subtract\")\n",
        "    print(\"3. Multiply\")\n",
        "    print(\"4. Divide\")\n",
        "    print(\"5. Exit\")\n",
        "\n",
        "    # Take the user's choice\n",
        "    choice = int(input(\"Enter your choice (1-5): \"))\n",
        "\n",
        "    if choice == 5:\n",
        "        print(\"Exiting calculator. Goodbye!\")\n",
        "        break\n",
        "\n",
        "    # Take two numbers as input\n",
        "    num1 = float(input(\"Enter the first number: \"))\n",
        "    num2 = float(input(\"Enter the second number: \"))\n",
        "\n",
        "    if choice == 1:\n",
        "        print(f\"Result: {num1} + {num2} = {num1 + num2}\")\n",
        "    elif choice == 2:\n",
        "        print(f\"Result: {num1} - {num2} = {num1 - num2}\")\n",
        "    elif choice == 3:\n",
        "        print(f\"Result: {num1} * {num2} = {num1 * num2}\")\n",
        "    elif choice == 4:\n",
        "        if num2 == 0:\n",
        "            print(\"Error: Division by zero is not allowed.\")\n",
        "        else:\n",
        "            print(f\"Result: {num1} / {num2} = {num1 / num2}\")\n",
        "    else:\n",
        "        print(\"Invalid choice. Please try again.\")"
      ],
      "metadata": {
        "colab": {
          "base_uri": "https://localhost:8080/"
        },
        "id": "oKP47RXhGZ3v",
        "outputId": "b182ce2d-91a8-4190-e7a0-e8c9f14da55a"
      },
      "execution_count": null,
      "outputs": [
        {
          "output_type": "stream",
          "name": "stdout",
          "text": [
            "\n",
            "Simple Calculator\n",
            "1. Add\n",
            "2. Subtract\n",
            "3. Multiply\n",
            "4. Divide\n",
            "5. Exit\n",
            "Enter your choice (1-5): 3\n",
            "Enter the first number: 1\n",
            "Enter the second number: 5\n",
            "Result: 1.0 * 5.0 = 5.0\n",
            "\n",
            "Simple Calculator\n",
            "1. Add\n",
            "2. Subtract\n",
            "3. Multiply\n",
            "4. Divide\n",
            "5. Exit\n",
            "Enter your choice (1-5): 5\n",
            "Exiting calculator. Goodbye!\n"
          ]
        }
      ]
    },
    {
      "cell_type": "code",
      "source": [
        "# Take a number as input\n",
        "num = int(input(\"Enter a number: \"))\n",
        "\n",
        "# Check if the number is prime\n",
        "if num < 2:\n",
        "    print(f\"{num} is not a prime number.\")\n",
        "else:\n",
        "    is_prime = True\n",
        "    for i in range(2, int(num ** 0.5) + 1):\n",
        "        if num % i == 0:\n",
        "            is_prime = False\n",
        "            break\n",
        "    if is_prime:\n",
        "        print(f\"{num} is a prime number.\")\n",
        "    else:\n",
        "        print(f\"{num} is not a prime number.\")"
      ],
      "metadata": {
        "colab": {
          "base_uri": "https://localhost:8080/"
        },
        "id": "eMYNaJdSHCiT",
        "outputId": "85b373d0-5961-4a5a-f83f-d8e2a52ecaf8"
      },
      "execution_count": null,
      "outputs": [
        {
          "output_type": "stream",
          "name": "stdout",
          "text": [
            "Enter a number: 21\n",
            "21 is not a prime number.\n"
          ]
        }
      ]
    },
    {
      "cell_type": "code",
      "source": [],
      "metadata": {
        "id": "qMpidp6uHJQG"
      },
      "execution_count": null,
      "outputs": []
    }
  ]
}